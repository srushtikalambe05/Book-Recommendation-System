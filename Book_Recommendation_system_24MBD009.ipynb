{
  "nbformat": 4,
  "nbformat_minor": 0,
  "metadata": {
    "colab": {
      "provenance": []
    },
    "kernelspec": {
      "name": "python3",
      "display_name": "Python 3"
    },
    "language_info": {
      "name": "python"
    }
  },
  "cells": [
    {
      "cell_type": "markdown",
      "source": [
        "BOOK RECOMMENDATION SYSTEM USING PCA AND KMEANS CLUSTERING.\n",
        "\n",
        "SRUSHTI KALAMBE,\n",
        "\n",
        "24MBD009"
      ],
      "metadata": {
        "id": "Zl7D5l7Xzg0U"
      }
    },
    {
      "cell_type": "code",
      "source": [
        "import pandas as pd\n",
        "import numpy as np\n",
        "from sklearn.decomposition import PCA\n",
        "from sklearn.cluster import KMeans\n",
        "from sklearn.preprocessing import LabelEncoder\n",
        "from sklearn.metrics.pairwise import cosine_similarity\n",
        "from termcolor import colored\n",
        "\n",
        "# Load and preprocess data\n",
        "df = pd.read_csv(\"Reduced_Book_Data_500_Rows.csv\").dropna()\n",
        "le = LabelEncoder()\n",
        "df['ISBN'] = le.fit_transform(df['ISBN'])\n",
        "df['User-ID'] = le.fit_transform(df['User-ID'])\n",
        "\n",
        "# Apply PCA\n",
        "pca = PCA(n_components=2)\n",
        "pca_features = pca.fit_transform(df[['User-ID', 'ISBN', 'Rating']])\n",
        "\n",
        "# Apply K-Means\n",
        "kmeans = KMeans(n_clusters=5, random_state=42, n_init=10)\n",
        "df['Cluster'] = kmeans.fit_predict(pca_features)\n",
        "\n",
        "# Recommend books based on similarity\n",
        "book_title = \"Ender's Game (Ender Wiggins Saga (Paperback))\"\n",
        "if book_title in df['Title'].values:\n",
        "    book_vector = df[df['Title'] == book_title][['User-ID', 'ISBN', 'Rating']].values\n",
        "    all_vectors = df[['User-ID', 'ISBN', 'Rating']].values\n",
        "    similarities = cosine_similarity(book_vector, all_vectors).flatten()\n",
        "    recommended_books = df.iloc[np.argsort(-similarities)][1:6]['Title'].tolist()\n",
        "\n",
        "    print(colored(\"\\nRecommended Books for:\", \"cyan\", attrs=[\"bold\"]), colored(book_title, \"green\", attrs=[\"bold\"]))\n",
        "    for i, book in enumerate(recommended_books, 1):\n",
        "        print(colored(f\"{i}. {book}\", \"yellow\"))\n",
        "else:\n",
        "    print(colored(\"Book not found.\", \"red\", attrs=[\"bold\"]))"
      ],
      "metadata": {
        "colab": {
          "base_uri": "https://localhost:8080/"
        },
        "id": "h7xgpB-ou7MH",
        "outputId": "6600c502-76c9-4fd2-c605-8e6887910a32"
      },
      "execution_count": 20,
      "outputs": [
        {
          "output_type": "stream",
          "name": "stdout",
          "text": [
            "\n",
            "Recommended Books for: Ender's Game (Ender Wiggins Saga (Paperback))\n",
            "1. The Color of Water: A Black Man's Tribute to His White Mother\n",
            "2. Everything's Eventual : 14 Dark Tales\n",
            "3. Fight Club\n",
            "4. The Hundred Secret Senses\n",
            "5. Morality for Beautiful Girls (No.1 Ladies Detective Agency)\n"
          ]
        }
      ]
    },
    {
      "cell_type": "code",
      "source": [
        "book_cluster = df[df['Title'] == book_title]['Cluster'].values[0]\n",
        "similar_books = df[df['Cluster'] == book_cluster]['Title'].unique()\n",
        "\n",
        "print(colored(\"\\nBooks in the Same Cluster:\", \"blue\", attrs=[\"bold\"]))\n",
        "for book in similar_books[:10]:  # Show first 10 books in the cluster\n",
        "    print(colored(book, \"magenta\"))\n"
      ],
      "metadata": {
        "colab": {
          "base_uri": "https://localhost:8080/"
        },
        "id": "Q8IoN2YZwPrb",
        "outputId": "b5c74dcc-0c75-4e98-b95b-88712ef99ed6"
      },
      "execution_count": 22,
      "outputs": [
        {
          "output_type": "stream",
          "name": "stdout",
          "text": [
            "\n",
            "Books in the Same Cluster:\n",
            "Ender's Game (Ender Wiggins Saga (Paperback))\n",
            "Wild Animus\n",
            "Fight Club\n",
            "Tears of the Giraffe (No.1 Ladies Detective Agency)\n",
            "The No. 1 Ladies' Detective Agency\n",
            "Corelli's Mandolin : A Novel\n",
            "Catch Me If You Can: The True Story of a Real Fake\n",
            "Ahab's Wife: Or, The Star-Gazer: A Novel\n",
            "The Color of Water: A Black Man's Tribute to His White Mother\n",
            "What to Expect the First Year\n"
          ]
        }
      ]
    }
  ]
}